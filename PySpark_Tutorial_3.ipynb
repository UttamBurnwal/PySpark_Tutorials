{
  "nbformat": 4,
  "nbformat_minor": 0,
  "metadata": {
    "colab": {
      "name": "PySpark Tutorial 3",
      "provenance": []
    },
    "kernelspec": {
      "name": "python3",
      "display_name": "Python 3"
    },
    "language_info": {
      "name": "python"
    }
  },
  "cells": [
    {
      "cell_type": "markdown",
      "source": [
        "## ***In this tutorial we will learn to handle missing values by using the following methods:***\n",
        "\n",
        "\n",
        "\n",
        "* Dropping Columns\n",
        "* Dropping Rows\n",
        "* Filling Missing Values\n",
        "* Handling Missing Values by Mean, Median and Mode"
      ],
      "metadata": {
        "id": "t04hrW9wYG40"
      }
    },
    {
      "cell_type": "code",
      "source": [
        "!pip install pyspark"
      ],
      "metadata": {
        "colab": {
          "base_uri": "https://localhost:8080/"
        },
        "id": "BTaRVLaQY26S",
        "outputId": "17458f65-ac9a-4bba-8eb6-1b932a443d8a"
      },
      "execution_count": 1,
      "outputs": [
        {
          "output_type": "stream",
          "name": "stdout",
          "text": [
            "Looking in indexes: https://pypi.org/simple, https://us-python.pkg.dev/colab-wheels/public/simple/\n",
            "Collecting pyspark\n",
            "  Downloading pyspark-3.3.0.tar.gz (281.3 MB)\n",
            "\u001b[K     |████████████████████████████████| 281.3 MB 44 kB/s \n",
            "\u001b[?25hCollecting py4j==0.10.9.5\n",
            "  Downloading py4j-0.10.9.5-py2.py3-none-any.whl (199 kB)\n",
            "\u001b[K     |████████████████████████████████| 199 kB 55.1 MB/s \n",
            "\u001b[?25hBuilding wheels for collected packages: pyspark\n",
            "  Building wheel for pyspark (setup.py) ... \u001b[?25l\u001b[?25hdone\n",
            "  Created wheel for pyspark: filename=pyspark-3.3.0-py2.py3-none-any.whl size=281764026 sha256=f27aa2d631691f998439f95fe31e12bce9409ca457bb74b12fbc0b6eb6110d40\n",
            "  Stored in directory: /root/.cache/pip/wheels/7a/8e/1b/f73a52650d2e5f337708d9f6a1750d451a7349a867f928b885\n",
            "Successfully built pyspark\n",
            "Installing collected packages: py4j, pyspark\n",
            "Successfully installed py4j-0.10.9.5 pyspark-3.3.0\n"
          ]
        }
      ]
    },
    {
      "cell_type": "code",
      "execution_count": 2,
      "metadata": {
        "id": "evS8689VYAK7"
      },
      "outputs": [],
      "source": [
        "from pyspark.sql import SparkSession"
      ]
    },
    {
      "cell_type": "code",
      "source": [
        "spark = SparkSession.builder.appName('missing').getOrCreate()\n",
        "spark"
      ],
      "metadata": {
        "colab": {
          "base_uri": "https://localhost:8080/",
          "height": 219
        },
        "id": "uBKCsA3SY_CF",
        "outputId": "bbb57524-1611-4fe2-e40f-bf8e32deb99a"
      },
      "execution_count": 3,
      "outputs": [
        {
          "output_type": "execute_result",
          "data": {
            "text/plain": [
              "<pyspark.sql.session.SparkSession at 0x7f8da7ee72d0>"
            ],
            "text/html": [
              "\n",
              "            <div>\n",
              "                <p><b>SparkSession - in-memory</b></p>\n",
              "                \n",
              "        <div>\n",
              "            <p><b>SparkContext</b></p>\n",
              "\n",
              "            <p><a href=\"http://ab1d91db4bba:4040\">Spark UI</a></p>\n",
              "\n",
              "            <dl>\n",
              "              <dt>Version</dt>\n",
              "                <dd><code>v3.3.0</code></dd>\n",
              "              <dt>Master</dt>\n",
              "                <dd><code>local[*]</code></dd>\n",
              "              <dt>AppName</dt>\n",
              "                <dd><code>missing</code></dd>\n",
              "            </dl>\n",
              "        </div>\n",
              "        \n",
              "            </div>\n",
              "        "
            ]
          },
          "metadata": {},
          "execution_count": 3
        }
      ]
    },
    {
      "cell_type": "code",
      "source": [
        "pyspark = spark.read.csv('missing_values.csv',header= True, inferSchema = True)\n",
        "pyspark.show()"
      ],
      "metadata": {
        "colab": {
          "base_uri": "https://localhost:8080/"
        },
        "id": "x036650vZpWL",
        "outputId": "146196c3-44a1-475d-bf30-ba57006a4846"
      },
      "execution_count": 29,
      "outputs": [
        {
          "output_type": "stream",
          "name": "stdout",
          "text": [
            "+-------+----+----------+-------+\n",
            "|   name| age|experience| salary|\n",
            "+-------+----+----------+-------+\n",
            "| Uttam |  21|        10|1000000|\n",
            "| Karan |  23|         4| 400000|\n",
            "|Krishna|  28|        50|5000000|\n",
            "|  Arjun|null|         9| 900000|\n",
            "|  Bhim |null|      null| 700000|\n",
            "+-------+----+----------+-------+\n",
            "\n"
          ]
        }
      ]
    },
    {
      "cell_type": "markdown",
      "source": [
        "# Dropping Columns"
      ],
      "metadata": {
        "id": "EBKFVcr3YyBI"
      }
    },
    {
      "cell_type": "code",
      "source": [
        "pyspark = pyspark.drop('age')\n",
        "pyspark.show()"
      ],
      "metadata": {
        "colab": {
          "base_uri": "https://localhost:8080/"
        },
        "id": "_VOSxJM1ZID0",
        "outputId": "794955ca-8e4a-4d82-8853-221b8eba3d11"
      },
      "execution_count": 8,
      "outputs": [
        {
          "output_type": "stream",
          "name": "stdout",
          "text": [
            "+-------+----------+-------+\n",
            "|   name|experience| salary|\n",
            "+-------+----------+-------+\n",
            "| Uttam |        10|1000000|\n",
            "| Karan |         4| 400000|\n",
            "|Krishna|        50|5000000|\n",
            "|  Arjun|         9| 900000|\n",
            "|  Bhim |      null| 700000|\n",
            "+-------+----------+-------+\n",
            "\n"
          ]
        }
      ]
    },
    {
      "cell_type": "markdown",
      "source": [
        "# Dropping Rows\n",
        "\n",
        "\n",
        "###***Dropping Parameters:***\n",
        "\n",
        "* how : 'any' or 'all'.\n",
        "\n",
        "If 'any', drop a row if it contains any nulls. (default)\n",
        "\n",
        "If 'all', drop a row only if all its values are null.\n",
        "\n",
        "\n",
        "* thresh: int, optional, default None\n",
        "\n",
        "If specified, drop rows that have less than thresh non-null values.\n",
        "\n",
        "This overwrites the how parameter.\n",
        "\n",
        "* subset : str, tuple or list, optional\n",
        "    \n",
        "optional list of column names to consider."
      ],
      "metadata": {
        "id": "Hm-3vGWmatAN"
      }
    },
    {
      "cell_type": "code",
      "source": [
        "pyspark.na.drop(how = 'any').show()"
      ],
      "metadata": {
        "colab": {
          "base_uri": "https://localhost:8080/"
        },
        "id": "xA834EDQahHF",
        "outputId": "28faa122-8060-4fb2-c3d6-28526e5f7edd"
      },
      "execution_count": 22,
      "outputs": [
        {
          "output_type": "stream",
          "name": "stdout",
          "text": [
            "+-------+---+----------+-------+\n",
            "|   name|age|experience| salary|\n",
            "+-------+---+----------+-------+\n",
            "| Uttam | 21|        10|1000000|\n",
            "| Karan | 23|         4| 400000|\n",
            "|Krishna| 28|        50|5000000|\n",
            "+-------+---+----------+-------+\n",
            "\n"
          ]
        }
      ]
    },
    {
      "cell_type": "code",
      "source": [
        "pyspark.na.drop(thresh = 3).show()"
      ],
      "metadata": {
        "colab": {
          "base_uri": "https://localhost:8080/"
        },
        "id": "t2uT21zFa3IP",
        "outputId": "c4d4c370-18bf-4998-fc71-64c50ed641ea"
      },
      "execution_count": 24,
      "outputs": [
        {
          "output_type": "stream",
          "name": "stdout",
          "text": [
            "+-------+----+----------+-------+\n",
            "|   name| age|experience| salary|\n",
            "+-------+----+----------+-------+\n",
            "| Uttam |  21|        10|1000000|\n",
            "| Karan |  23|         4| 400000|\n",
            "|Krishna|  28|        50|5000000|\n",
            "|  Arjun|null|         9| 900000|\n",
            "+-------+----+----------+-------+\n",
            "\n"
          ]
        }
      ]
    },
    {
      "cell_type": "code",
      "source": [
        "pyspark.na.drop(subset=['age']).show()"
      ],
      "metadata": {
        "colab": {
          "base_uri": "https://localhost:8080/"
        },
        "id": "i-lMB08ucaGx",
        "outputId": "bbe773ae-98ca-4eae-e5fa-7881334c8177"
      },
      "execution_count": 26,
      "outputs": [
        {
          "output_type": "stream",
          "name": "stdout",
          "text": [
            "+-------+---+----------+-------+\n",
            "|   name|age|experience| salary|\n",
            "+-------+---+----------+-------+\n",
            "| Uttam | 21|        10|1000000|\n",
            "| Karan | 23|         4| 400000|\n",
            "|Krishna| 28|        50|5000000|\n",
            "+-------+---+----------+-------+\n",
            "\n"
          ]
        }
      ]
    },
    {
      "cell_type": "markdown",
      "source": [
        "# Filling Missing Values"
      ],
      "metadata": {
        "id": "etEcHaa8dp_h"
      }
    },
    {
      "cell_type": "code",
      "source": [
        "# Filling all the null values\n",
        "\n",
        "pyspark.na.fill(100).show()"
      ],
      "metadata": {
        "colab": {
          "base_uri": "https://localhost:8080/"
        },
        "id": "VkQ-YciFdHRD",
        "outputId": "954bef1a-8353-40aa-8f5a-7c25ffbf6c85"
      },
      "execution_count": 33,
      "outputs": [
        {
          "output_type": "stream",
          "name": "stdout",
          "text": [
            "+-------+---+----------+-------+\n",
            "|   name|age|experience| salary|\n",
            "+-------+---+----------+-------+\n",
            "| Uttam | 21|        10|1000000|\n",
            "| Karan | 23|         4| 400000|\n",
            "|Krishna| 28|        50|5000000|\n",
            "|  Arjun|100|         9| 900000|\n",
            "|  Bhim |100|       100| 700000|\n",
            "+-------+---+----------+-------+\n",
            "\n"
          ]
        }
      ]
    },
    {
      "cell_type": "code",
      "source": [
        "# Filling null values of targeted column\n",
        "\n",
        "pyspark.na.fill(100,'age').show()"
      ],
      "metadata": {
        "colab": {
          "base_uri": "https://localhost:8080/"
        },
        "id": "5w5ZN6n3dQsZ",
        "outputId": "ed3f69cb-fafe-46a1-824d-61551c551109"
      },
      "execution_count": 34,
      "outputs": [
        {
          "output_type": "stream",
          "name": "stdout",
          "text": [
            "+-------+---+----------+-------+\n",
            "|   name|age|experience| salary|\n",
            "+-------+---+----------+-------+\n",
            "| Uttam | 21|        10|1000000|\n",
            "| Karan | 23|         4| 400000|\n",
            "|Krishna| 28|        50|5000000|\n",
            "|  Arjun|100|         9| 900000|\n",
            "|  Bhim |100|      null| 700000|\n",
            "+-------+---+----------+-------+\n",
            "\n"
          ]
        }
      ]
    },
    {
      "cell_type": "code",
      "source": [
        "# Filling null values of targeted columns\n",
        "\n",
        "pyspark.na.fill(100,['age','experience']).show()"
      ],
      "metadata": {
        "colab": {
          "base_uri": "https://localhost:8080/"
        },
        "id": "SHEQgp_aeigA",
        "outputId": "27cff8b8-fc8c-4758-ba12-0ed1576387b5"
      },
      "execution_count": 35,
      "outputs": [
        {
          "output_type": "stream",
          "name": "stdout",
          "text": [
            "+-------+---+----------+-------+\n",
            "|   name|age|experience| salary|\n",
            "+-------+---+----------+-------+\n",
            "| Uttam | 21|        10|1000000|\n",
            "| Karan | 23|         4| 400000|\n",
            "|Krishna| 28|        50|5000000|\n",
            "|  Arjun|100|         9| 900000|\n",
            "|  Bhim |100|       100| 700000|\n",
            "+-------+---+----------+-------+\n",
            "\n"
          ]
        }
      ]
    },
    {
      "cell_type": "markdown",
      "source": [
        "# Handling Missing Values by Mean, Median and Mode"
      ],
      "metadata": {
        "id": "nWv63gbbe96O"
      }
    },
    {
      "cell_type": "code",
      "source": [
        "from pyspark.ml.feature import Imputer\n",
        "\n",
        "imputer_mean = Imputer(\n",
        "    inputCols = ['age','experience'],\n",
        "    outputCols = [\"{}_imputed\".format(c) for c in ['age','experience']]\n",
        ").setStrategy('mean')"
      ],
      "metadata": {
        "id": "UBLpIZvberZ0"
      },
      "execution_count": 40,
      "outputs": []
    },
    {
      "cell_type": "code",
      "source": [
        "imputer_mean.fit(pyspark).transform(pyspark).show()"
      ],
      "metadata": {
        "colab": {
          "base_uri": "https://localhost:8080/"
        },
        "id": "ZUBP2QYHfk_P",
        "outputId": "aaa8161b-86b6-436c-a78a-e6f5d59a62f9"
      },
      "execution_count": 41,
      "outputs": [
        {
          "output_type": "stream",
          "name": "stdout",
          "text": [
            "+-------+----+----------+-------+-----------+------------------+\n",
            "|   name| age|experience| salary|age_imputed|experience_imputed|\n",
            "+-------+----+----------+-------+-----------+------------------+\n",
            "| Uttam |  21|        10|1000000|         21|                10|\n",
            "| Karan |  23|         4| 400000|         23|                 4|\n",
            "|Krishna|  28|        50|5000000|         28|                50|\n",
            "|  Arjun|null|         9| 900000|         24|                 9|\n",
            "|  Bhim |null|      null| 700000|         24|                18|\n",
            "+-------+----+----------+-------+-----------+------------------+\n",
            "\n"
          ]
        }
      ]
    },
    {
      "cell_type": "code",
      "source": [
        "imputer_median = Imputer(\n",
        "    inputCols = ['age','experience'],\n",
        "    outputCols = [\"{}_imputed\".format(c) for c in ['age','experience']]\n",
        ").setStrategy('median')"
      ],
      "metadata": {
        "id": "404MyYe2f2nZ"
      },
      "execution_count": 42,
      "outputs": []
    },
    {
      "cell_type": "code",
      "source": [
        "imputer_median.fit(pyspark).transform(pyspark).show()"
      ],
      "metadata": {
        "colab": {
          "base_uri": "https://localhost:8080/"
        },
        "id": "2cVltm2egK6v",
        "outputId": "33515443-433f-44c6-eb8b-169e620c66e9"
      },
      "execution_count": 43,
      "outputs": [
        {
          "output_type": "stream",
          "name": "stdout",
          "text": [
            "+-------+----+----------+-------+-----------+------------------+\n",
            "|   name| age|experience| salary|age_imputed|experience_imputed|\n",
            "+-------+----+----------+-------+-----------+------------------+\n",
            "| Uttam |  21|        10|1000000|         21|                10|\n",
            "| Karan |  23|         4| 400000|         23|                 4|\n",
            "|Krishna|  28|        50|5000000|         28|                50|\n",
            "|  Arjun|null|         9| 900000|         23|                 9|\n",
            "|  Bhim |null|      null| 700000|         23|                 9|\n",
            "+-------+----+----------+-------+-----------+------------------+\n",
            "\n"
          ]
        }
      ]
    },
    {
      "cell_type": "code",
      "source": [
        "imputer_mode = Imputer(\n",
        "    inputCols = ['age','experience'],\n",
        "    outputCols = [\"{}_imputed\".format(c) for c in ['age','experience']]\n",
        ").setStrategy('mode')"
      ],
      "metadata": {
        "id": "AScEesZ6gL01"
      },
      "execution_count": 45,
      "outputs": []
    },
    {
      "cell_type": "code",
      "source": [
        "imputer_mode.fit(pyspark).transform(pyspark).show()"
      ],
      "metadata": {
        "colab": {
          "base_uri": "https://localhost:8080/"
        },
        "id": "DaCUMI4zgLxd",
        "outputId": "bd055b9f-b4ea-4968-b7fe-7bab881b5a83"
      },
      "execution_count": 46,
      "outputs": [
        {
          "output_type": "stream",
          "name": "stdout",
          "text": [
            "+-------+----+----------+-------+-----------+------------------+\n",
            "|   name| age|experience| salary|age_imputed|experience_imputed|\n",
            "+-------+----+----------+-------+-----------+------------------+\n",
            "| Uttam |  21|        10|1000000|         21|                10|\n",
            "| Karan |  23|         4| 400000|         23|                 4|\n",
            "|Krishna|  28|        50|5000000|         28|                50|\n",
            "|  Arjun|null|         9| 900000|         21|                 9|\n",
            "|  Bhim |null|      null| 700000|         21|                 4|\n",
            "+-------+----+----------+-------+-----------+------------------+\n",
            "\n"
          ]
        }
      ]
    },
    {
      "cell_type": "code",
      "source": [],
      "metadata": {
        "id": "C7hs3hSOgb8z"
      },
      "execution_count": null,
      "outputs": []
    }
  ]
}