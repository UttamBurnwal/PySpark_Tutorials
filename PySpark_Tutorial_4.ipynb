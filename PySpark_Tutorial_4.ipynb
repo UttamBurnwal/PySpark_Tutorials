{
  "nbformat": 4,
  "nbformat_minor": 0,
  "metadata": {
    "colab": {
      "name": "PySpark Tutorial 4",
      "provenance": []
    },
    "kernelspec": {
      "name": "python3",
      "display_name": "Python 3"
    },
    "language_info": {
      "name": "python"
    }
  },
  "cells": [
    {
      "cell_type": "markdown",
      "source": [
        "## ***In this tutorial we will learn about filtering methods:***\n",
        "\n",
        "\n",
        "\n",
        "* Filtering Options\n",
        "* &,|,==\n",
        "* ~"
      ],
      "metadata": {
        "id": "_cZZGMTTlR9U"
      }
    },
    {
      "cell_type": "code",
      "execution_count": 3,
      "metadata": {
        "colab": {
          "base_uri": "https://localhost:8080/",
          "height": 271
        },
        "id": "uBA9Z1EqlQCU",
        "outputId": "26c3e6d0-1435-455a-aa63-eb9192cc8968"
      },
      "outputs": [
        {
          "output_type": "stream",
          "name": "stdout",
          "text": [
            "Looking in indexes: https://pypi.org/simple, https://us-python.pkg.dev/colab-wheels/public/simple/\n",
            "Requirement already satisfied: pyspark in /usr/local/lib/python3.7/dist-packages (3.3.0)\n",
            "Requirement already satisfied: py4j==0.10.9.5 in /usr/local/lib/python3.7/dist-packages (from pyspark) (0.10.9.5)\n"
          ]
        },
        {
          "output_type": "execute_result",
          "data": {
            "text/plain": [
              "<pyspark.sql.session.SparkSession at 0x7f689fd7c490>"
            ],
            "text/html": [
              "\n",
              "            <div>\n",
              "                <p><b>SparkSession - in-memory</b></p>\n",
              "                \n",
              "        <div>\n",
              "            <p><b>SparkContext</b></p>\n",
              "\n",
              "            <p><a href=\"http://0362ecb6a27a:4040\">Spark UI</a></p>\n",
              "\n",
              "            <dl>\n",
              "              <dt>Version</dt>\n",
              "                <dd><code>v3.3.0</code></dd>\n",
              "              <dt>Master</dt>\n",
              "                <dd><code>local[*]</code></dd>\n",
              "              <dt>AppName</dt>\n",
              "                <dd><code>filtering</code></dd>\n",
              "            </dl>\n",
              "        </div>\n",
              "        \n",
              "            </div>\n",
              "        "
            ]
          },
          "metadata": {},
          "execution_count": 3
        }
      ],
      "source": [
        "!pip install pyspark\n",
        "\n",
        "from pyspark.sql import SparkSession\n",
        "\n",
        "spark = SparkSession.builder.appName('filtering').getOrCreate()\n",
        "spark"
      ]
    },
    {
      "cell_type": "code",
      "source": [
        "pyspark = spark.read.csv('test1.csv',header = True, inferSchema = True)\n",
        "pyspark.show()"
      ],
      "metadata": {
        "colab": {
          "base_uri": "https://localhost:8080/"
        },
        "id": "GlPzzeCVmCiN",
        "outputId": "2cd6d6ef-2f25-420a-f5b2-0ea08054ca46"
      },
      "execution_count": 5,
      "outputs": [
        {
          "output_type": "stream",
          "name": "stdout",
          "text": [
            "+-------+---+----------+-------+\n",
            "|   name|age|experience| salary|\n",
            "+-------+---+----------+-------+\n",
            "| Uttam | 21|        10|1000000|\n",
            "| Karan | 23|         4| 400000|\n",
            "|Krishna| 28|        50|5000000|\n",
            "|  Arjun| 24|         9| 900000|\n",
            "|  Bhim | 26|         7| 700000|\n",
            "+-------+---+----------+-------+\n",
            "\n"
          ]
        }
      ]
    },
    {
      "cell_type": "markdown",
      "source": [
        "# Filtering Operations"
      ],
      "metadata": {
        "id": "RmWxadYCmoG6"
      }
    },
    {
      "cell_type": "code",
      "source": [
        "# Salary of people less than 1000000\n",
        "\n",
        "pyspark.filter('salary<1000000').show()"
      ],
      "metadata": {
        "colab": {
          "base_uri": "https://localhost:8080/"
        },
        "id": "yy5pNVqUmMbC",
        "outputId": "41cc158a-0055-4a62-f452-782a124d8a93"
      },
      "execution_count": 7,
      "outputs": [
        {
          "output_type": "stream",
          "name": "stdout",
          "text": [
            "+------+---+----------+------+\n",
            "|  name|age|experience|salary|\n",
            "+------+---+----------+------+\n",
            "|Karan | 23|         4|400000|\n",
            "| Arjun| 24|         9|900000|\n",
            "| Bhim | 26|         7|700000|\n",
            "+------+---+----------+------+\n",
            "\n"
          ]
        }
      ]
    },
    {
      "cell_type": "code",
      "source": [
        "pyspark.filter(pyspark['salary']<1000000).show()"
      ],
      "metadata": {
        "colab": {
          "base_uri": "https://localhost:8080/"
        },
        "id": "EQc1x0r4n1fr",
        "outputId": "31371b1c-06c2-4270-bd07-7ffbd8fc3266"
      },
      "execution_count": 9,
      "outputs": [
        {
          "output_type": "stream",
          "name": "stdout",
          "text": [
            "+------+---+----------+------+\n",
            "|  name|age|experience|salary|\n",
            "+------+---+----------+------+\n",
            "|Karan | 23|         4|400000|\n",
            "| Arjun| 24|         9|900000|\n",
            "| Bhim | 26|         7|700000|\n",
            "+------+---+----------+------+\n",
            "\n"
          ]
        }
      ]
    },
    {
      "cell_type": "code",
      "source": [
        "# Finding name and age with salary of people less than 1000000 (With Columns)\n",
        "\n",
        "pyspark.filter('salary<1000000').select(['name','age']).show()"
      ],
      "metadata": {
        "colab": {
          "base_uri": "https://localhost:8080/"
        },
        "id": "So3045-Mm97X",
        "outputId": "3d11e68d-51c6-402e-d6cd-f3c1154afea4"
      },
      "execution_count": 8,
      "outputs": [
        {
          "output_type": "stream",
          "name": "stdout",
          "text": [
            "+------+---+\n",
            "|  name|age|\n",
            "+------+---+\n",
            "|Karan | 23|\n",
            "| Arjun| 24|\n",
            "| Bhim | 26|\n",
            "+------+---+\n",
            "\n"
          ]
        }
      ]
    },
    {
      "cell_type": "code",
      "source": [
        "# Multiple Condition Formatting (And)\n",
        "\n",
        "pyspark.filter((pyspark['salary']<1000000) & (pyspark['age']<25)).show()"
      ],
      "metadata": {
        "colab": {
          "base_uri": "https://localhost:8080/"
        },
        "id": "aSihZ90jndE5",
        "outputId": "18a82f9f-cb17-4996-a30f-db850e267439"
      },
      "execution_count": 10,
      "outputs": [
        {
          "output_type": "stream",
          "name": "stdout",
          "text": [
            "+------+---+----------+------+\n",
            "|  name|age|experience|salary|\n",
            "+------+---+----------+------+\n",
            "|Karan | 23|         4|400000|\n",
            "| Arjun| 24|         9|900000|\n",
            "+------+---+----------+------+\n",
            "\n"
          ]
        }
      ]
    },
    {
      "cell_type": "code",
      "source": [
        "# Multiple Condition Formatting (Or)\n",
        "\n",
        "pyspark.filter((pyspark['salary']>1000000) | (pyspark['age']<25)).show()"
      ],
      "metadata": {
        "colab": {
          "base_uri": "https://localhost:8080/"
        },
        "id": "66uQjW04oQkJ",
        "outputId": "a7933bec-65af-47ca-e329-157298348c67"
      },
      "execution_count": 11,
      "outputs": [
        {
          "output_type": "stream",
          "name": "stdout",
          "text": [
            "+-------+---+----------+-------+\n",
            "|   name|age|experience| salary|\n",
            "+-------+---+----------+-------+\n",
            "| Uttam | 21|        10|1000000|\n",
            "| Karan | 23|         4| 400000|\n",
            "|Krishna| 28|        50|5000000|\n",
            "|  Arjun| 24|         9| 900000|\n",
            "+-------+---+----------+-------+\n",
            "\n"
          ]
        }
      ]
    },
    {
      "cell_type": "code",
      "source": [],
      "metadata": {
        "id": "zgumy-QCo32i"
      },
      "execution_count": null,
      "outputs": []
    }
  ]
}