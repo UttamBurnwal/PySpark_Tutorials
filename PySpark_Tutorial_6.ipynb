{
  "nbformat": 4,
  "nbformat_minor": 0,
  "metadata": {
    "colab": {
      "provenance": []
    },
    "kernelspec": {
      "name": "python3",
      "display_name": "Python 3"
    },
    "language_info": {
      "name": "python"
    }
  },
  "cells": [
    {
      "cell_type": "markdown",
      "source": [
        "## ***In this tutorial we will learn about MLib.***"
      ],
      "metadata": {
        "id": "uxVWCwnYVDMv"
      }
    },
    {
      "cell_type": "code",
      "execution_count": null,
      "metadata": {
        "id": "MGg1XDnax2xy",
        "colab": {
          "base_uri": "https://localhost:8080/",
          "height": 271
        },
        "outputId": "40285377-37a0-4d0e-ac9f-91882360e25e"
      },
      "outputs": [
        {
          "output_type": "stream",
          "name": "stdout",
          "text": [
            "Looking in indexes: https://pypi.org/simple, https://us-python.pkg.dev/colab-wheels/public/simple/\n",
            "Requirement already satisfied: pyspark in /usr/local/lib/python3.7/dist-packages (3.3.0)\n",
            "Requirement already satisfied: py4j==0.10.9.5 in /usr/local/lib/python3.7/dist-packages (from pyspark) (0.10.9.5)\n"
          ]
        },
        {
          "output_type": "execute_result",
          "data": {
            "text/plain": [
              "<pyspark.sql.session.SparkSession at 0x7f3923ce5610>"
            ],
            "text/html": [
              "\n",
              "            <div>\n",
              "                <p><b>SparkSession - in-memory</b></p>\n",
              "                \n",
              "        <div>\n",
              "            <p><b>SparkContext</b></p>\n",
              "\n",
              "            <p><a href=\"http://5dd46b40ba16:4040\">Spark UI</a></p>\n",
              "\n",
              "            <dl>\n",
              "              <dt>Version</dt>\n",
              "                <dd><code>v3.3.0</code></dd>\n",
              "              <dt>Master</dt>\n",
              "                <dd><code>local[*]</code></dd>\n",
              "              <dt>AppName</dt>\n",
              "                <dd><code>mlib</code></dd>\n",
              "            </dl>\n",
              "        </div>\n",
              "        \n",
              "            </div>\n",
              "        "
            ]
          },
          "metadata": {},
          "execution_count": 39
        }
      ],
      "source": [
        "!pip install pyspark\n",
        "\n",
        "from pyspark.sql import SparkSession\n",
        "\n",
        "spark = SparkSession.builder.appName('mlib').getOrCreate()\n",
        "spark"
      ]
    },
    {
      "cell_type": "code",
      "source": [
        "training = spark.read.csv('test1.csv',header = True, inferSchema = True)\n",
        "training.show()"
      ],
      "metadata": {
        "colab": {
          "base_uri": "https://localhost:8080/"
        },
        "id": "6twG55pnV5q0",
        "outputId": "6a4f2477-3091-42ab-f63b-560be8af9d5d"
      },
      "execution_count": null,
      "outputs": [
        {
          "output_type": "stream",
          "name": "stdout",
          "text": [
            "+-------+---+----------+-------+\n",
            "|   name|age|experience| salary|\n",
            "+-------+---+----------+-------+\n",
            "| Uttam | 21|        10|1000000|\n",
            "| Karan | 23|         4| 400000|\n",
            "|Krishna| 28|        50|5000000|\n",
            "|  Arjun| 24|         9| 900000|\n",
            "|  Bhim | 26|         7| 700000|\n",
            "+-------+---+----------+-------+\n",
            "\n"
          ]
        }
      ]
    },
    {
      "cell_type": "code",
      "source": [
        "training.dtypes"
      ],
      "metadata": {
        "colab": {
          "base_uri": "https://localhost:8080/"
        },
        "id": "Sf5TO5VMWGXQ",
        "outputId": "49541a1a-5bd5-41dc-a397-a88b06d6b633"
      },
      "execution_count": null,
      "outputs": [
        {
          "output_type": "execute_result",
          "data": {
            "text/plain": [
              "[('name', 'string'), ('age', 'int'), ('experience', 'int'), ('salary', 'int')]"
            ]
          },
          "metadata": {},
          "execution_count": 41
        }
      ]
    },
    {
      "cell_type": "code",
      "source": [
        "training.printSchema()"
      ],
      "metadata": {
        "colab": {
          "base_uri": "https://localhost:8080/"
        },
        "id": "YsZNv6TFWTE5",
        "outputId": "a73cbd62-804f-4dd9-d16e-70df4a6c36be"
      },
      "execution_count": null,
      "outputs": [
        {
          "output_type": "stream",
          "name": "stdout",
          "text": [
            "root\n",
            " |-- name: string (nullable = true)\n",
            " |-- age: integer (nullable = true)\n",
            " |-- experience: integer (nullable = true)\n",
            " |-- salary: integer (nullable = true)\n",
            "\n"
          ]
        }
      ]
    },
    {
      "cell_type": "code",
      "source": [
        "training.columns"
      ],
      "metadata": {
        "colab": {
          "base_uri": "https://localhost:8080/"
        },
        "id": "GH8c-79IWsHx",
        "outputId": "3c7b13ed-7b40-4aa6-9537-30cbb724d0ec"
      },
      "execution_count": null,
      "outputs": [
        {
          "output_type": "execute_result",
          "data": {
            "text/plain": [
              "['name', 'age', 'experience', 'salary']"
            ]
          },
          "metadata": {},
          "execution_count": 43
        }
      ]
    },
    {
      "cell_type": "markdown",
      "source": [
        "To create a training set we need to group all our independent features into a vector format. To do that we will import VectorAssembler.\n",
        "\n",
        "['independent_v1','independent_v2',..] --> [New Feature] --> [Final Independent Feature Vecctor]"
      ],
      "metadata": {
        "id": "wuqNmpKsXEfd"
      }
    },
    {
      "cell_type": "code",
      "source": [
        "from pyspark.ml.feature import VectorAssembler\n",
        "\n",
        "featureassembler = VectorAssembler(inputCols = ['age','experience'],outputCol = 'independent feature')"
      ],
      "metadata": {
        "id": "m3sJ3Ot3Wu6d"
      },
      "execution_count": null,
      "outputs": []
    },
    {
      "cell_type": "code",
      "source": [
        "output = featureassembler.transform(training)\n",
        "output.show()"
      ],
      "metadata": {
        "colab": {
          "base_uri": "https://localhost:8080/"
        },
        "id": "5xj9IjmjX3ve",
        "outputId": "887179b7-f11c-4c33-80de-821a4f3ace22"
      },
      "execution_count": null,
      "outputs": [
        {
          "output_type": "stream",
          "name": "stdout",
          "text": [
            "+-------+---+----------+-------+-------------------+\n",
            "|   name|age|experience| salary|independent feature|\n",
            "+-------+---+----------+-------+-------------------+\n",
            "| Uttam | 21|        10|1000000|        [21.0,10.0]|\n",
            "| Karan | 23|         4| 400000|         [23.0,4.0]|\n",
            "|Krishna| 28|        50|5000000|        [28.0,50.0]|\n",
            "|  Arjun| 24|         9| 900000|         [24.0,9.0]|\n",
            "|  Bhim | 26|         7| 700000|         [26.0,7.0]|\n",
            "+-------+---+----------+-------+-------------------+\n",
            "\n"
          ]
        }
      ]
    },
    {
      "cell_type": "code",
      "source": [
        "final_data = output.select('Independent feature','salary')\n",
        "final_data.show()"
      ],
      "metadata": {
        "colab": {
          "base_uri": "https://localhost:8080/"
        },
        "id": "5XO2VlLEX_Kl",
        "outputId": "52375c5b-d51e-4bdc-ae10-fe27c3ddbf41"
      },
      "execution_count": null,
      "outputs": [
        {
          "output_type": "stream",
          "name": "stdout",
          "text": [
            "+-------------------+-------+\n",
            "|Independent feature| salary|\n",
            "+-------------------+-------+\n",
            "|        [21.0,10.0]|1000000|\n",
            "|         [23.0,4.0]| 400000|\n",
            "|        [28.0,50.0]|5000000|\n",
            "|         [24.0,9.0]| 900000|\n",
            "|         [26.0,7.0]| 700000|\n",
            "+-------------------+-------+\n",
            "\n"
          ]
        }
      ]
    },
    {
      "cell_type": "markdown",
      "source": [
        "We have created our final data. Now we will build a ML algorithm."
      ],
      "metadata": {
        "id": "CwBqYY1UYi2c"
      }
    },
    {
      "cell_type": "code",
      "source": [
        "from pyspark.ml.regression import LinearRegression\n",
        "\n",
        "# Train Test Split: \n",
        "# Here a weird 40 - 60 % train test split has been taken \n",
        "# because the set is toooooo small. Normal 80-20% was not working. \n",
        "# You can take 80-20 or 75-25 or whatever percentage you feel like if you have a large dataset.\n",
        "\n",
        "train_data,test_data = final_data.randomSplit([0.6,0.4])\n",
        "regressor = LinearRegression(featuresCol= 'Independent feature',labelCol = 'salary')\n",
        "regressor = regressor.fit(train_data)"
      ],
      "metadata": {
        "colab": {
          "base_uri": "https://localhost:8080/"
        },
        "id": "ahvBOfTTYW0x",
        "outputId": "9bc98a2f-1e8f-4bb4-cc18-59e7a64aaabb"
      },
      "execution_count": null,
      "outputs": [
        {
          "output_type": "stream",
          "name": "stderr",
          "text": [
            "Exception ignored in: <function JavaWrapper.__del__ at 0x7f3917f2da70>\n",
            "Traceback (most recent call last):\n",
            "  File \"/usr/local/lib/python3.7/dist-packages/pyspark/ml/wrapper.py\", line 53, in __del__\n",
            "    if SparkContext._active_spark_context and self._java_obj is not None:\n",
            "AttributeError: 'LinearRegression' object has no attribute '_java_obj'\n"
          ]
        }
      ]
    },
    {
      "cell_type": "code",
      "source": [
        "train_data.show()"
      ],
      "metadata": {
        "colab": {
          "base_uri": "https://localhost:8080/"
        },
        "id": "9INbQwIwbXpc",
        "outputId": "b60d6b23-fdac-4519-f274-dce149bd678f"
      },
      "execution_count": null,
      "outputs": [
        {
          "output_type": "stream",
          "name": "stdout",
          "text": [
            "+-------------------+-------+\n",
            "|Independent feature| salary|\n",
            "+-------------------+-------+\n",
            "|        [21.0,10.0]|1000000|\n",
            "|         [24.0,9.0]| 900000|\n",
            "|         [26.0,7.0]| 700000|\n",
            "+-------------------+-------+\n",
            "\n"
          ]
        }
      ]
    },
    {
      "cell_type": "code",
      "source": [
        "test_data.show()"
      ],
      "metadata": {
        "colab": {
          "base_uri": "https://localhost:8080/"
        },
        "id": "_Keja6zibaC_",
        "outputId": "cf3ed0df-5e48-48db-bceb-7058785e882d"
      },
      "execution_count": null,
      "outputs": [
        {
          "output_type": "stream",
          "name": "stdout",
          "text": [
            "+-------------------+-------+\n",
            "|Independent feature| salary|\n",
            "+-------------------+-------+\n",
            "|         [23.0,4.0]| 400000|\n",
            "|        [28.0,50.0]|5000000|\n",
            "+-------------------+-------+\n",
            "\n"
          ]
        }
      ]
    },
    {
      "cell_type": "code",
      "source": [
        "# Coeefficients\n",
        "\n",
        "regressor.coefficients"
      ],
      "metadata": {
        "colab": {
          "base_uri": "https://localhost:8080/"
        },
        "id": "TvBSl2YvZiaW",
        "outputId": "3fda78c9-c245-4207-ba15-e54dbab44638"
      },
      "execution_count": null,
      "outputs": [
        {
          "output_type": "execute_result",
          "data": {
            "text/plain": [
              "DenseVector([-0.0, 100000.0])"
            ]
          },
          "metadata": {},
          "execution_count": 50
        }
      ]
    },
    {
      "cell_type": "code",
      "source": [
        "# Intercepts\n",
        "\n",
        "regressor.intercept"
      ],
      "metadata": {
        "colab": {
          "base_uri": "https://localhost:8080/"
        },
        "id": "EzCtT4w_Zs4b",
        "outputId": "08abd773-22c9-474c-952d-2b229abf3a85"
      },
      "execution_count": null,
      "outputs": [
        {
          "output_type": "execute_result",
          "data": {
            "text/plain": [
              "4.097163364774425e-07"
            ]
          },
          "metadata": {},
          "execution_count": 51
        }
      ]
    },
    {
      "cell_type": "code",
      "source": [
        "# Prediction\n",
        "\n",
        "pred_result = regressor.evaluate(test_data)\n",
        "pred_result.predictions.show()"
      ],
      "metadata": {
        "colab": {
          "base_uri": "https://localhost:8080/"
        },
        "id": "Re0_ICLGZ0FZ",
        "outputId": "b162432b-23af-4a2c-a3e2-cf0451c09934"
      },
      "execution_count": null,
      "outputs": [
        {
          "output_type": "stream",
          "name": "stdout",
          "text": [
            "+-------------------+-------+-----------------+\n",
            "|Independent feature| salary|       prediction|\n",
            "+-------------------+-------+-----------------+\n",
            "|         [23.0,4.0]| 400000|400000.0000000883|\n",
            "|        [28.0,50.0]|5000000|4999999.999999235|\n",
            "+-------------------+-------+-----------------+\n",
            "\n"
          ]
        }
      ]
    },
    {
      "cell_type": "code",
      "source": [
        "pred_result.meanAbsoluteError, pred_result.meanSquaredError, pred_result.rootMeanSquaredError"
      ],
      "metadata": {
        "colab": {
          "base_uri": "https://localhost:8080/"
        },
        "id": "ONak2h10Z-kV",
        "outputId": "94a61526-f5bb-43b6-864e-9a9ae932aa30"
      },
      "execution_count": null,
      "outputs": [
        {
          "output_type": "execute_result",
          "data": {
            "text/plain": [
              "(4.2645842768251896e-07, 2.9621722182602856e-13, 5.442584145661218e-07)"
            ]
          },
          "metadata": {},
          "execution_count": 53
        }
      ]
    },
    {
      "cell_type": "code",
      "source": [],
      "metadata": {
        "id": "7m6GDSkvb3Tj"
      },
      "execution_count": null,
      "outputs": []
    }
  ]
}