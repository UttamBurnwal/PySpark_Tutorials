{
  "nbformat": 4,
  "nbformat_minor": 0,
  "metadata": {
    "colab": {
      "name": "PySpark Tutorial 2",
      "provenance": []
    },
    "kernelspec": {
      "name": "python3",
      "display_name": "Python 3"
    },
    "language_info": {
      "name": "python"
    }
  },
  "cells": [
    {
      "cell_type": "markdown",
      "source": [
        "## ***In this tutorial we will cover:***\n",
        "\n",
        "\n",
        "\n",
        "*   Pyspark Dataframe\n",
        "*   Reading the Dataset\n",
        "* Checking the Datatypes of the column (schema)\n",
        "* Selecting Columns and Indexing\n",
        "* Check Describe option similar to Pandas\n",
        "* Adding Columns\n",
        "* Dropping Columns\n",
        "\n"
      ],
      "metadata": {
        "id": "5ty5k7zgR0fw"
      }
    },
    {
      "cell_type": "code",
      "source": [
        "!pip install pyspark"
      ],
      "metadata": {
        "colab": {
          "base_uri": "https://localhost:8080/"
        },
        "id": "edtcHMKfSlYp",
        "outputId": "e1a0e0e2-6865-4ce1-a8e3-d1afc5d9b5d7"
      },
      "execution_count": 2,
      "outputs": [
        {
          "output_type": "stream",
          "name": "stdout",
          "text": [
            "Looking in indexes: https://pypi.org/simple, https://us-python.pkg.dev/colab-wheels/public/simple/\n",
            "Collecting pyspark\n",
            "  Downloading pyspark-3.3.0.tar.gz (281.3 MB)\n",
            "\u001b[K     |████████████████████████████████| 281.3 MB 33 kB/s \n",
            "\u001b[?25hCollecting py4j==0.10.9.5\n",
            "  Downloading py4j-0.10.9.5-py2.py3-none-any.whl (199 kB)\n",
            "\u001b[K     |████████████████████████████████| 199 kB 48.0 MB/s \n",
            "\u001b[?25hBuilding wheels for collected packages: pyspark\n",
            "  Building wheel for pyspark (setup.py) ... \u001b[?25l\u001b[?25hdone\n",
            "  Created wheel for pyspark: filename=pyspark-3.3.0-py2.py3-none-any.whl size=281764026 sha256=ea190ec60d1b14a3c920341225803b26b305ece9757717e360b3da542e8f7532\n",
            "  Stored in directory: /root/.cache/pip/wheels/7a/8e/1b/f73a52650d2e5f337708d9f6a1750d451a7349a867f928b885\n",
            "Successfully built pyspark\n",
            "Installing collected packages: py4j, pyspark\n",
            "Successfully installed py4j-0.10.9.5 pyspark-3.3.0\n"
          ]
        }
      ]
    },
    {
      "cell_type": "markdown",
      "source": [
        "# Starting Session"
      ],
      "metadata": {
        "id": "zM4DSCJrUahq"
      }
    },
    {
      "cell_type": "code",
      "execution_count": 3,
      "metadata": {
        "id": "Y7ulnKAeRym_"
      },
      "outputs": [],
      "source": [
        "from pyspark.sql import SparkSession"
      ]
    },
    {
      "cell_type": "code",
      "source": [
        "spark = SparkSession.builder.appName('Dataframe').getOrCreate()\n",
        "spark"
      ],
      "metadata": {
        "colab": {
          "base_uri": "https://localhost:8080/",
          "height": 219
        },
        "id": "5xxAQcvVSfEL",
        "outputId": "b395bbe9-7d8b-4549-8ca7-10cf26351ede"
      },
      "execution_count": 5,
      "outputs": [
        {
          "output_type": "execute_result",
          "data": {
            "text/plain": [
              "<pyspark.sql.session.SparkSession at 0x7f0e4ed5ff90>"
            ],
            "text/html": [
              "\n",
              "            <div>\n",
              "                <p><b>SparkSession - in-memory</b></p>\n",
              "                \n",
              "        <div>\n",
              "            <p><b>SparkContext</b></p>\n",
              "\n",
              "            <p><a href=\"http://11c61b2fbe38:4040\">Spark UI</a></p>\n",
              "\n",
              "            <dl>\n",
              "              <dt>Version</dt>\n",
              "                <dd><code>v3.3.0</code></dd>\n",
              "              <dt>Master</dt>\n",
              "                <dd><code>local[*]</code></dd>\n",
              "              <dt>AppName</dt>\n",
              "                <dd><code>Dataframe</code></dd>\n",
              "            </dl>\n",
              "        </div>\n",
              "        \n",
              "            </div>\n",
              "        "
            ]
          },
          "metadata": {},
          "execution_count": 5
        }
      ]
    },
    {
      "cell_type": "markdown",
      "source": [
        "# Reading the Dataset"
      ],
      "metadata": {
        "id": "8PYST7lgUeff"
      }
    },
    {
      "cell_type": "code",
      "source": [
        "# Read the dataset\n",
        "\n",
        "df_pyspark1 = spark.read.option('header','true').csv('test1.csv',inferSchema = True)\n",
        "print(df_pyspark1)\n",
        "df_pyspark1.show()"
      ],
      "metadata": {
        "colab": {
          "base_uri": "https://localhost:8080/"
        },
        "id": "tMK0rVbNSfCA",
        "outputId": "f205171f-4bc7-48b5-f147-12d5d52475d4"
      },
      "execution_count": 36,
      "outputs": [
        {
          "output_type": "stream",
          "name": "stdout",
          "text": [
            "DataFrame[name: string, age: int, experience: int]\n",
            "+-------+---+----------+\n",
            "|   name|age|experience|\n",
            "+-------+---+----------+\n",
            "| Uttam | 21|        10|\n",
            "| Karan | 23|         4|\n",
            "|Krishna| 28|        50|\n",
            "|  Arjun| 24|         9|\n",
            "|  Bhim | 26|         7|\n",
            "+-------+---+----------+\n",
            "\n"
          ]
        }
      ]
    },
    {
      "cell_type": "code",
      "source": [
        "# Check the schema\n",
        "\n",
        "df_pyspark1.printSchema()"
      ],
      "metadata": {
        "colab": {
          "base_uri": "https://localhost:8080/"
        },
        "id": "Fxm31W90Se_n",
        "outputId": "c1a9da01-8665-4ca6-c3e7-82cd7a727136"
      },
      "execution_count": 37,
      "outputs": [
        {
          "output_type": "stream",
          "name": "stdout",
          "text": [
            "root\n",
            " |-- name: string (nullable = true)\n",
            " |-- age: integer (nullable = true)\n",
            " |-- experience: integer (nullable = true)\n",
            "\n"
          ]
        }
      ]
    },
    {
      "cell_type": "code",
      "source": [
        "df_pyspark = spark.read.csv('test1.csv',header = True, inferSchema = True)\n",
        "print(df_pyspark)\n",
        "df_pyspark.show()"
      ],
      "metadata": {
        "colab": {
          "base_uri": "https://localhost:8080/"
        },
        "id": "9uvl8eECSe8x",
        "outputId": "b9a84142-d5be-4953-e949-091654975603"
      },
      "execution_count": 38,
      "outputs": [
        {
          "output_type": "stream",
          "name": "stdout",
          "text": [
            "DataFrame[name: string, age: int, experience: int]\n",
            "+-------+---+----------+\n",
            "|   name|age|experience|\n",
            "+-------+---+----------+\n",
            "| Uttam | 21|        10|\n",
            "| Karan | 23|         4|\n",
            "|Krishna| 28|        50|\n",
            "|  Arjun| 24|         9|\n",
            "|  Bhim | 26|         7|\n",
            "+-------+---+----------+\n",
            "\n"
          ]
        }
      ]
    },
    {
      "cell_type": "markdown",
      "source": [
        "# Checking the Datatypes of the column (schema)"
      ],
      "metadata": {
        "id": "zp3jjCAuUkPi"
      }
    },
    {
      "cell_type": "code",
      "source": [
        "df_pyspark.columns"
      ],
      "metadata": {
        "colab": {
          "base_uri": "https://localhost:8080/"
        },
        "id": "JuK13C-3UtFE",
        "outputId": "db625da7-9cb8-4c10-fdd1-0239a7712eaf"
      },
      "execution_count": 39,
      "outputs": [
        {
          "output_type": "execute_result",
          "data": {
            "text/plain": [
              "['name', 'age', 'experience']"
            ]
          },
          "metadata": {},
          "execution_count": 39
        }
      ]
    },
    {
      "cell_type": "code",
      "source": [
        "df_pyspark.printSchema()"
      ],
      "metadata": {
        "colab": {
          "base_uri": "https://localhost:8080/"
        },
        "id": "BKhTntnNSe5c",
        "outputId": "42b1ee64-ae88-49bc-d9f9-1925109471d7"
      },
      "execution_count": 40,
      "outputs": [
        {
          "output_type": "stream",
          "name": "stdout",
          "text": [
            "root\n",
            " |-- name: string (nullable = true)\n",
            " |-- age: integer (nullable = true)\n",
            " |-- experience: integer (nullable = true)\n",
            "\n"
          ]
        }
      ]
    },
    {
      "cell_type": "code",
      "source": [
        "df_pyspark.head(3)"
      ],
      "metadata": {
        "colab": {
          "base_uri": "https://localhost:8080/"
        },
        "id": "3Nn-ZAeESe21",
        "outputId": "b40f6b9d-706c-43b5-9fb8-70db2950a954"
      },
      "execution_count": 41,
      "outputs": [
        {
          "output_type": "execute_result",
          "data": {
            "text/plain": [
              "[Row(name='Uttam ', age=21, experience=10),\n",
              " Row(name='Karan ', age=23, experience=4),\n",
              " Row(name='Krishna', age=28, experience=50)]"
            ]
          },
          "metadata": {},
          "execution_count": 41
        }
      ]
    },
    {
      "cell_type": "markdown",
      "source": [
        "# Selecting Columns and Indexing"
      ],
      "metadata": {
        "id": "wZlWQz-oU5AI"
      }
    },
    {
      "cell_type": "code",
      "source": [
        "# Selecting a column \n",
        "\n",
        "df_pyspark.select('name')"
      ],
      "metadata": {
        "colab": {
          "base_uri": "https://localhost:8080/"
        },
        "id": "Nk1erSOQSe0L",
        "outputId": "5b602a05-e27e-41f7-fed0-adeb63196fc7"
      },
      "execution_count": 42,
      "outputs": [
        {
          "output_type": "execute_result",
          "data": {
            "text/plain": [
              "DataFrame[name: string]"
            ]
          },
          "metadata": {},
          "execution_count": 42
        }
      ]
    },
    {
      "cell_type": "code",
      "source": [
        "df_pyspark.select('name').show()"
      ],
      "metadata": {
        "colab": {
          "base_uri": "https://localhost:8080/"
        },
        "id": "wGclwNXoVswh",
        "outputId": "f3ea5702-4e2e-41e4-a429-bb8bac5adc8f"
      },
      "execution_count": 43,
      "outputs": [
        {
          "output_type": "stream",
          "name": "stdout",
          "text": [
            "+-------+\n",
            "|   name|\n",
            "+-------+\n",
            "| Uttam |\n",
            "| Karan |\n",
            "|Krishna|\n",
            "|  Arjun|\n",
            "|  Bhim |\n",
            "+-------+\n",
            "\n"
          ]
        }
      ]
    },
    {
      "cell_type": "code",
      "source": [
        "# Selecting multiple columns\n",
        "\n",
        "df_pyspark.select(['name','age'])"
      ],
      "metadata": {
        "colab": {
          "base_uri": "https://localhost:8080/"
        },
        "id": "QTeYDUIlVCSN",
        "outputId": "106e4973-6e51-45e8-a655-eca278eb176b"
      },
      "execution_count": 44,
      "outputs": [
        {
          "output_type": "execute_result",
          "data": {
            "text/plain": [
              "DataFrame[name: string, age: int]"
            ]
          },
          "metadata": {},
          "execution_count": 44
        }
      ]
    },
    {
      "cell_type": "code",
      "source": [
        "df_pyspark.select(['name','age']).show()"
      ],
      "metadata": {
        "colab": {
          "base_uri": "https://localhost:8080/"
        },
        "id": "4ggJWk0CVcu8",
        "outputId": "abc464e4-4619-4a37-faf8-c512962811fd"
      },
      "execution_count": 45,
      "outputs": [
        {
          "output_type": "stream",
          "name": "stdout",
          "text": [
            "+-------+---+\n",
            "|   name|age|\n",
            "+-------+---+\n",
            "| Uttam | 21|\n",
            "| Karan | 23|\n",
            "|Krishna| 28|\n",
            "|  Arjun| 24|\n",
            "|  Bhim | 26|\n",
            "+-------+---+\n",
            "\n"
          ]
        }
      ]
    },
    {
      "cell_type": "code",
      "source": [
        "type(df_pyspark.select('name'))"
      ],
      "metadata": {
        "colab": {
          "base_uri": "https://localhost:8080/"
        },
        "id": "fiwn5-VWVRgZ",
        "outputId": "58d10bf2-ef45-415f-ab75-02c86edcac9a"
      },
      "execution_count": 46,
      "outputs": [
        {
          "output_type": "execute_result",
          "data": {
            "text/plain": [
              "pyspark.sql.dataframe.DataFrame"
            ]
          },
          "metadata": {},
          "execution_count": 46
        }
      ]
    },
    {
      "cell_type": "code",
      "source": [
        "# # Finding the datatype of a column\n",
        "\n",
        "df_pyspark.dtypes"
      ],
      "metadata": {
        "colab": {
          "base_uri": "https://localhost:8080/"
        },
        "id": "e2W5NXOWVZHT",
        "outputId": "7fe3e597-38cb-4612-de64-fc9817e09a8d"
      },
      "execution_count": 47,
      "outputs": [
        {
          "output_type": "execute_result",
          "data": {
            "text/plain": [
              "[('name', 'string'), ('age', 'int'), ('experience', 'int')]"
            ]
          },
          "metadata": {},
          "execution_count": 47
        }
      ]
    },
    {
      "cell_type": "markdown",
      "source": [
        "# Check Describe option similar to Pandas"
      ],
      "metadata": {
        "id": "Xhfrds5aV-o7"
      }
    },
    {
      "cell_type": "code",
      "source": [
        "df_pyspark.describe().show()"
      ],
      "metadata": {
        "colab": {
          "base_uri": "https://localhost:8080/"
        },
        "id": "F1buOGBtVx_q",
        "outputId": "6c4b8080-c7bb-408d-afea-34b15b10838e"
      },
      "execution_count": 48,
      "outputs": [
        {
          "output_type": "stream",
          "name": "stdout",
          "text": [
            "+-------+------+-----------------+------------------+\n",
            "|summary|  name|              age|        experience|\n",
            "+-------+------+-----------------+------------------+\n",
            "|  count|     5|                5|                 5|\n",
            "|   mean|  null|             24.4|              16.0|\n",
            "| stddev|  null|2.701851217221259|19.144189719076646|\n",
            "|    min| Arjun|               21|                 4|\n",
            "|    max|Uttam |               28|                50|\n",
            "+-------+------+-----------------+------------------+\n",
            "\n"
          ]
        }
      ]
    },
    {
      "cell_type": "markdown",
      "source": [
        "# Adding Columns in Dataframe"
      ],
      "metadata": {
        "id": "EnL8tSkyWLML"
      }
    },
    {
      "cell_type": "code",
      "source": [
        "df_pyspark = df_pyspark.withColumn('experience after 2 years', df_pyspark['experience']+2)\n",
        "df_pyspark.show()"
      ],
      "metadata": {
        "colab": {
          "base_uri": "https://localhost:8080/"
        },
        "id": "5hwVA2p3WBIu",
        "outputId": "338f783a-ccf8-451c-b124-091ae87ca465"
      },
      "execution_count": 53,
      "outputs": [
        {
          "output_type": "stream",
          "name": "stdout",
          "text": [
            "+-------+---+----------+------------------------+\n",
            "|   name|age|experience|experience after 2 years|\n",
            "+-------+---+----------+------------------------+\n",
            "| Uttam | 21|        10|                      12|\n",
            "| Karan | 23|         4|                       6|\n",
            "|Krishna| 28|        50|                      52|\n",
            "|  Arjun| 24|         9|                      11|\n",
            "|  Bhim | 26|         7|                       9|\n",
            "+-------+---+----------+------------------------+\n",
            "\n"
          ]
        }
      ]
    },
    {
      "cell_type": "markdown",
      "source": [
        "# Dropping Columns in Dataframe"
      ],
      "metadata": {
        "id": "t6ReoFdsXQjD"
      }
    },
    {
      "cell_type": "code",
      "source": [
        "df_pyspark = df_pyspark.drop('experience after 2 years')\n",
        "df_pyspark.show()"
      ],
      "metadata": {
        "colab": {
          "base_uri": "https://localhost:8080/"
        },
        "id": "d670ZfcGW_Sx",
        "outputId": "9ae06264-3759-4484-a370-06c2edef5474"
      },
      "execution_count": 55,
      "outputs": [
        {
          "output_type": "stream",
          "name": "stdout",
          "text": [
            "+-------+---+----------+\n",
            "|   name|age|experience|\n",
            "+-------+---+----------+\n",
            "| Uttam | 21|        10|\n",
            "| Karan | 23|         4|\n",
            "|Krishna| 28|        50|\n",
            "|  Arjun| 24|         9|\n",
            "|  Bhim | 26|         7|\n",
            "+-------+---+----------+\n",
            "\n"
          ]
        }
      ]
    },
    {
      "cell_type": "markdown",
      "source": [
        "# Renaming Columns in Dataframe"
      ],
      "metadata": {
        "id": "WZNJ6A11Xii2"
      }
    },
    {
      "cell_type": "code",
      "source": [
        "df_pyspark = df_pyspark.withColumnRenamed('name','new_name')\n",
        "df_pyspark.show()"
      ],
      "metadata": {
        "colab": {
          "base_uri": "https://localhost:8080/"
        },
        "id": "VPJbHSSRXZaZ",
        "outputId": "8918ec32-f750-4dfe-80c6-ab5c9cc94e5a"
      },
      "execution_count": 56,
      "outputs": [
        {
          "output_type": "stream",
          "name": "stdout",
          "text": [
            "+--------+---+----------+\n",
            "|new_name|age|experience|\n",
            "+--------+---+----------+\n",
            "|  Uttam | 21|        10|\n",
            "|  Karan | 23|         4|\n",
            "| Krishna| 28|        50|\n",
            "|   Arjun| 24|         9|\n",
            "|   Bhim | 26|         7|\n",
            "+--------+---+----------+\n",
            "\n"
          ]
        }
      ]
    },
    {
      "cell_type": "code",
      "source": [],
      "metadata": {
        "id": "7r1JCCX9X0DP"
      },
      "execution_count": null,
      "outputs": []
    }
  ]
}