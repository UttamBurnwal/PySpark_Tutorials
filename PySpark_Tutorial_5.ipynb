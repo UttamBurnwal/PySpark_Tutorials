{
  "nbformat": 4,
  "nbformat_minor": 0,
  "metadata": {
    "colab": {
      "name": "PySpark Tutorial 5",
      "provenance": [],
      "collapsed_sections": []
    },
    "kernelspec": {
      "name": "python3",
      "display_name": "Python 3"
    },
    "language_info": {
      "name": "python"
    }
  },
  "cells": [
    {
      "cell_type": "markdown",
      "source": [
        "## ***In this tutorial we will learn about Groupby and Aggregate Function.***"
      ],
      "metadata": {
        "id": "4V2Y0DhIpkke"
      }
    },
    {
      "cell_type": "code",
      "execution_count": null,
      "metadata": {
        "colab": {
          "base_uri": "https://localhost:8080/",
          "height": 462
        },
        "id": "nP0Ksuqypjnj",
        "outputId": "f3de44ea-b816-41a7-f0a0-c4c27a33cdaf"
      },
      "outputs": [
        {
          "output_type": "stream",
          "name": "stdout",
          "text": [
            "Looking in indexes: https://pypi.org/simple, https://us-python.pkg.dev/colab-wheels/public/simple/\n",
            "Collecting pyspark\n",
            "  Downloading pyspark-3.3.0.tar.gz (281.3 MB)\n",
            "\u001b[K     |████████████████████████████████| 281.3 MB 41 kB/s \n",
            "\u001b[?25hCollecting py4j==0.10.9.5\n",
            "  Downloading py4j-0.10.9.5-py2.py3-none-any.whl (199 kB)\n",
            "\u001b[K     |████████████████████████████████| 199 kB 46.2 MB/s \n",
            "\u001b[?25hBuilding wheels for collected packages: pyspark\n",
            "  Building wheel for pyspark (setup.py) ... \u001b[?25l\u001b[?25hdone\n",
            "  Created wheel for pyspark: filename=pyspark-3.3.0-py2.py3-none-any.whl size=281764026 sha256=e60122289679b83575bb751a2731f1e8ba7be64f91e0693a8d0bfc42f1e4f032\n",
            "  Stored in directory: /root/.cache/pip/wheels/7a/8e/1b/f73a52650d2e5f337708d9f6a1750d451a7349a867f928b885\n",
            "Successfully built pyspark\n",
            "Installing collected packages: py4j, pyspark\n",
            "Successfully installed py4j-0.10.9.5 pyspark-3.3.0\n"
          ]
        },
        {
          "output_type": "execute_result",
          "data": {
            "text/plain": [
              "<pyspark.sql.session.SparkSession at 0x7fa98ee81510>"
            ],
            "text/html": [
              "\n",
              "            <div>\n",
              "                <p><b>SparkSession - in-memory</b></p>\n",
              "                \n",
              "        <div>\n",
              "            <p><b>SparkContext</b></p>\n",
              "\n",
              "            <p><a href=\"http://28878e2c1e6c:4040\">Spark UI</a></p>\n",
              "\n",
              "            <dl>\n",
              "              <dt>Version</dt>\n",
              "                <dd><code>v3.3.0</code></dd>\n",
              "              <dt>Master</dt>\n",
              "                <dd><code>local[*]</code></dd>\n",
              "              <dt>AppName</dt>\n",
              "                <dd><code>groupby</code></dd>\n",
              "            </dl>\n",
              "        </div>\n",
              "        \n",
              "            </div>\n",
              "        "
            ]
          },
          "metadata": {},
          "execution_count": 1
        }
      ],
      "source": [
        "!pip install pyspark\n",
        "\n",
        "from pyspark.sql import SparkSession\n",
        "\n",
        "spark = SparkSession.builder.appName('groupby').getOrCreate()\n",
        "spark"
      ]
    },
    {
      "cell_type": "code",
      "source": [
        "pyspark = spark.read.csv('salary.csv',header = True, inferSchema = True)\n",
        "pyspark.show()"
      ],
      "metadata": {
        "colab": {
          "base_uri": "https://localhost:8080/"
        },
        "id": "bRgmdlLkrBC3",
        "outputId": "05a23f59-c074-4d9b-c17f-b743a2599f85"
      },
      "execution_count": null,
      "outputs": [
        {
          "output_type": "stream",
          "name": "stdout",
          "text": [
            "+-------+--------------+-------+\n",
            "|   name|    department| salary|\n",
            "+-------+--------------+-------+\n",
            "| Uttam |  Data Science|1000000|\n",
            "| Karan |  Data Science| 400000|\n",
            "|Krishna|Human Resource|5000000|\n",
            "|  Arjun|     Big Data | 900000|\n",
            "|  Bhim |           IOT| 700000|\n",
            "| Uttam |     Big Data |1300000|\n",
            "| Karan |       Account| 400000|\n",
            "|  Arjun|       Account| 600000|\n",
            "+-------+--------------+-------+\n",
            "\n"
          ]
        }
      ]
    },
    {
      "cell_type": "code",
      "source": [
        "pyspark.printSchema()"
      ],
      "metadata": {
        "colab": {
          "base_uri": "https://localhost:8080/"
        },
        "id": "iLpaaR9psGH3",
        "outputId": "b2cee18e-a5d2-4497-d739-68b299425aa2"
      },
      "execution_count": null,
      "outputs": [
        {
          "output_type": "stream",
          "name": "stdout",
          "text": [
            "root\n",
            " |-- name: string (nullable = true)\n",
            " |-- department: string (nullable = true)\n",
            " |-- salary: integer (nullable = true)\n",
            "\n"
          ]
        }
      ]
    },
    {
      "cell_type": "markdown",
      "source": [
        "# Groupby"
      ],
      "metadata": {
        "id": "Kyc1yXX5sbPj"
      }
    },
    {
      "cell_type": "code",
      "source": [
        "# To find total salary of each individual\n",
        "\n",
        "pyspark.groupby('name').sum().show()"
      ],
      "metadata": {
        "colab": {
          "base_uri": "https://localhost:8080/"
        },
        "id": "XcOPEc72sYq_",
        "outputId": "24e6e0fb-fe34-4178-d912-25876c7ef1de"
      },
      "execution_count": null,
      "outputs": [
        {
          "output_type": "stream",
          "name": "stdout",
          "text": [
            "+-------+-----------+\n",
            "|   name|sum(salary)|\n",
            "+-------+-----------+\n",
            "|  Bhim |     700000|\n",
            "|Krishna|    5000000|\n",
            "| Karan |     800000|\n",
            "|  Arjun|    1500000|\n",
            "| Uttam |    2300000|\n",
            "+-------+-----------+\n",
            "\n"
          ]
        }
      ]
    },
    {
      "cell_type": "code",
      "source": [
        "# To find Total Salary provided to each Department\n",
        "\n",
        "pyspark.groupby('department').sum().show()"
      ],
      "metadata": {
        "colab": {
          "base_uri": "https://localhost:8080/"
        },
        "id": "dftXlvKpsoH_",
        "outputId": "29c8291e-a9b2-41fd-92ce-81b57a1e7da1"
      },
      "execution_count": null,
      "outputs": [
        {
          "output_type": "stream",
          "name": "stdout",
          "text": [
            "+--------------+-----------+\n",
            "|    department|sum(salary)|\n",
            "+--------------+-----------+\n",
            "|           IOT|     700000|\n",
            "|     Big Data |    2200000|\n",
            "|Human Resource|    5000000|\n",
            "|       Account|    1000000|\n",
            "|  Data Science|    1400000|\n",
            "+--------------+-----------+\n",
            "\n"
          ]
        }
      ]
    },
    {
      "cell_type": "code",
      "source": [
        "# To find Number of employees in each Department\n",
        "\n",
        "pyspark.groupby('department').count().show()"
      ],
      "metadata": {
        "colab": {
          "base_uri": "https://localhost:8080/"
        },
        "id": "f0LY7yJCt1wE",
        "outputId": "965bab62-73cc-413e-cd2a-869f9565641f"
      },
      "execution_count": null,
      "outputs": [
        {
          "output_type": "stream",
          "name": "stdout",
          "text": [
            "+--------------+-----+\n",
            "|    department|count|\n",
            "+--------------+-----+\n",
            "|           IOT|    1|\n",
            "|     Big Data |    2|\n",
            "|Human Resource|    1|\n",
            "|       Account|    2|\n",
            "|  Data Science|    2|\n",
            "+--------------+-----+\n",
            "\n"
          ]
        }
      ]
    },
    {
      "cell_type": "code",
      "source": [
        "pyspark.agg({'salary':'sum'}).show()"
      ],
      "metadata": {
        "colab": {
          "base_uri": "https://localhost:8080/"
        },
        "id": "BISUhQI-uEL2",
        "outputId": "f48ae786-b504-465e-a679-667ff138f9ac"
      },
      "execution_count": null,
      "outputs": [
        {
          "output_type": "stream",
          "name": "stdout",
          "text": [
            "+-----------+\n",
            "|sum(salary)|\n",
            "+-----------+\n",
            "|   10300000|\n",
            "+-----------+\n",
            "\n"
          ]
        }
      ]
    },
    {
      "cell_type": "code",
      "source": [
        "pyspark.groupby('department').agg({'salary':'sum','name':'count'}).show()"
      ],
      "metadata": {
        "colab": {
          "base_uri": "https://localhost:8080/"
        },
        "id": "FavRaItRuddU",
        "outputId": "8f3d933f-2f3d-497c-b0ae-c278b37dcf32"
      },
      "execution_count": null,
      "outputs": [
        {
          "output_type": "stream",
          "name": "stdout",
          "text": [
            "+--------------+-----------+-----------+\n",
            "|    department|count(name)|sum(salary)|\n",
            "+--------------+-----------+-----------+\n",
            "|           IOT|          1|     700000|\n",
            "|     Big Data |          2|    2200000|\n",
            "|Human Resource|          1|    5000000|\n",
            "|       Account|          2|    1000000|\n",
            "|  Data Science|          2|    1400000|\n",
            "+--------------+-----------+-----------+\n",
            "\n"
          ]
        }
      ]
    },
    {
      "cell_type": "code",
      "source": [],
      "metadata": {
        "id": "CT5n1HfkupJS"
      },
      "execution_count": null,
      "outputs": []
    }
  ]
}